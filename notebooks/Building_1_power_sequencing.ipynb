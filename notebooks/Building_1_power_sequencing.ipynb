{
 "cells": [
  {
   "cell_type": "markdown",
   "metadata": {},
   "source": [
    "#Building 1 power sequencing#\n",
    "##Tuesday 3rd December starting 08:43#\n",
    "## Unless stated otherwise the appliance is turned on then off after a 5 second delay##\n",
    "*  **base power 144w**\n",
    "*  Study light\n",
    "*  Landing light\n",
    "*  Bedroom,3 light\n",
    "*  Ensuite\n",
    "   *  fan\n",
    "   *  mirror lights\n",
    "   *  main light\n",
    "*  **Power checkpoint 227w**\n",
    "*  Bedroom,2 light\n",
    "*  old_gaming_PC on\n",
    "*  lcd_office3 on\n",
    "*  old_gaming_PC off\n",
    "*  lcd_office3 off\n",
    "*  Bathroom\n",
    "   *  light\n",
    "   *  fan\n",
    "   *  Mirror lights\n",
    "*  Master Bedroom \n",
    "   *  main lights on dim then off\n",
    "   *  main lights on full then off\n",
    "*  **Power checkpoint 218w**\n",
    "*  Lounge\n",
    "   * TV without sound system\n",
    "   * DVD sound system\n",
    "   * HDR\n",
    "   * Hifi stack on\n",
    "   * Tuner on then off\n",
    "   * Hifi stack off\n",
    "   * 3 lounge wall lights\n",
    "   * 2 main lights (with dimmer 5 sec?)\n",
    "*  Hall\n",
    "   * central light\n",
    "   * inner light\n",
    "   * outer light\n",
    "*  Dining room\n",
    "   * main lights x2\n",
    "   * wall lights x2\n",
    "   * table lamp\n",
    "   * display cabinets  \n",
    "*  WC\n",
    "   * main light on/off\n",
    "   * main light + fan on\n",
    "   * main light off\n",
    "   * fan off\n",
    "*  Family Room\n",
    "   lights\n",
    "   TV\n",
    "Kitchen\n",
    "   Kettle\n",
    "   boiler came on in this period\n",
    "   microwave 2 minutes\n",
    "   Freezer on in this period\n",
    "*  **Power checkpoint 223w, study off 203 on 220**\n"
   ]
  },
  {
   "cell_type": "code",
   "execution_count": null,
   "metadata": {
    "collapsed": true
   },
   "outputs": [],
   "source": []
  }
 ],
 "metadata": {
  "kernelspec": {
   "display_name": "Python 2",
   "language": "python",
   "name": "python2"
  },
  "language_info": {
   "codemirror_mode": {
    "name": "ipython",
    "version": 2
   },
   "file_extension": ".py",
   "mimetype": "text/x-python",
   "name": "python",
   "nbconvert_exporter": "python",
   "pygments_lexer": "ipython2",
   "version": "2.7.9"
  }
 },
 "nbformat": 4,
 "nbformat_minor": 0
}
