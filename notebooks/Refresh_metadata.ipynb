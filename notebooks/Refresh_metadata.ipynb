{
 "cells": [
  {
   "cell_type": "code",
   "execution_count": 6,
   "metadata": {
    "collapsed": false
   },
   "outputs": [
    {
     "ename": "NilmMetadataError",
     "evalue": "In building 1, appliance 'electric space heater' appears 3 times. The list of instances is '[1, 1, 1]'.  It should be '[1, 2, 3]'.",
     "output_type": "error",
     "traceback": [
      "\u001b[1;31m---------------------------------------------------------------------------\u001b[0m",
      "\u001b[1;31mNilmMetadataError\u001b[0m                         Traceback (most recent call last)",
      "\u001b[1;32m<ipython-input-6-c46dd3cb7ad4>\u001b[0m in \u001b[0;36m<module>\u001b[1;34m()\u001b[0m\n\u001b[0;32m     45\u001b[0m \u001b[1;33m\u001b[0m\u001b[0m\n\u001b[0;32m     46\u001b[0m \u001b[1;32mif\u001b[0m \u001b[0m__name__\u001b[0m \u001b[1;33m==\u001b[0m \u001b[1;34m'__main__'\u001b[0m\u001b[1;33m:\u001b[0m\u001b[1;33m\u001b[0m\u001b[0m\n\u001b[1;32m---> 47\u001b[1;33m     \u001b[0mmain\u001b[0m\u001b[1;33m(\u001b[0m\u001b[1;33m)\u001b[0m\u001b[1;33m\u001b[0m\u001b[0m\n\u001b[0m",
      "\u001b[1;32m<ipython-input-6-c46dd3cb7ad4>\u001b[0m in \u001b[0;36mmain\u001b[1;34m()\u001b[0m\n\u001b[0;32m     42\u001b[0m \u001b[1;33m\u001b[0m\u001b[0m\n\u001b[0;32m     43\u001b[0m \u001b[1;32mdef\u001b[0m \u001b[0mmain\u001b[0m\u001b[1;33m(\u001b[0m\u001b[1;33m)\u001b[0m\u001b[1;33m:\u001b[0m\u001b[1;33m\u001b[0m\u001b[0m\n\u001b[1;32m---> 44\u001b[1;33m     \u001b[0mrefresh_gjw_metadata\u001b[0m\u001b[1;33m(\u001b[0m\u001b[1;34m'c:/Users/GJWood/nilm_gjw_data'\u001b[0m\u001b[1;33m,\u001b[0m \u001b[0mNone\u001b[0m\u001b[1;33m)\u001b[0m\u001b[1;33m\u001b[0m\u001b[0m\n\u001b[0m\u001b[0;32m     45\u001b[0m \u001b[1;33m\u001b[0m\u001b[0m\n\u001b[0;32m     46\u001b[0m \u001b[1;32mif\u001b[0m \u001b[0m__name__\u001b[0m \u001b[1;33m==\u001b[0m \u001b[1;34m'__main__'\u001b[0m\u001b[1;33m:\u001b[0m\u001b[1;33m\u001b[0m\u001b[0m\n",
      "\u001b[1;32m<ipython-input-6-c46dd3cb7ad4>\u001b[0m in \u001b[0;36mrefresh_gjw_metadata\u001b[1;34m(gjw_path, output_filename, format)\u001b[0m\n\u001b[0;32m     38\u001b[0m     \u001b[1;32mif\u001b[0m \u001b[0moutput_filename\u001b[0m \u001b[1;32mis\u001b[0m \u001b[0mNone\u001b[0m\u001b[1;33m:\u001b[0m\u001b[1;33m\u001b[0m\u001b[0m\n\u001b[0;32m     39\u001b[0m         \u001b[0moutput_filename\u001b[0m \u001b[1;33m=\u001b[0m\u001b[0mjoin\u001b[0m\u001b[1;33m(\u001b[0m\u001b[0mhome_dir\u001b[0m\u001b[1;33m,\u001b[0m\u001b[1;34m'HDF5'\u001b[0m\u001b[1;33m,\u001b[0m\u001b[1;34m'nilm_gjw_data.hdf5'\u001b[0m\u001b[1;33m)\u001b[0m\u001b[1;33m\u001b[0m\u001b[0m\n\u001b[1;32m---> 40\u001b[1;33m     \u001b[0mconvert_yaml_to_hdf5\u001b[0m\u001b[1;33m(\u001b[0m\u001b[0mjoin\u001b[0m\u001b[1;33m(\u001b[0m\u001b[0mgjw_path\u001b[0m\u001b[1;33m,\u001b[0m \u001b[1;34m'metadata'\u001b[0m\u001b[1;33m)\u001b[0m\u001b[1;33m,\u001b[0m\u001b[0moutput_filename\u001b[0m\u001b[1;33m)\u001b[0m\u001b[1;33m\u001b[0m\u001b[0m\n\u001b[0m\u001b[0;32m     41\u001b[0m     \u001b[1;32mprint\u001b[0m\u001b[1;33m(\u001b[0m\u001b[1;34m\"Done refreshing metadata\"\u001b[0m\u001b[1;33m)\u001b[0m\u001b[1;33m\u001b[0m\u001b[0m\n\u001b[0;32m     42\u001b[0m \u001b[1;33m\u001b[0m\u001b[0m\n",
      "\u001b[1;32mc:\\users\\gjwood\\nilm_metadata\\nilm_metadata\\convert_yaml_to_hdf5.pyc\u001b[0m in \u001b[0;36mconvert_yaml_to_hdf5\u001b[1;34m(yaml_dir, hdf_filename)\u001b[0m\n\u001b[0;32m     53\u001b[0m         \u001b[0m_set_data_location\u001b[0m\u001b[1;33m(\u001b[0m\u001b[0melec_meters\u001b[0m\u001b[1;33m,\u001b[0m \u001b[0mbuilding\u001b[0m\u001b[1;33m)\u001b[0m\u001b[1;33m\u001b[0m\u001b[0m\n\u001b[0;32m     54\u001b[0m         \u001b[0m_sanity_check_meters\u001b[0m\u001b[1;33m(\u001b[0m\u001b[0melec_meters\u001b[0m\u001b[1;33m,\u001b[0m \u001b[0mmeter_devices\u001b[0m\u001b[1;33m)\u001b[0m\u001b[1;33m\u001b[0m\u001b[0m\n\u001b[1;32m---> 55\u001b[1;33m         \u001b[0m_sanity_check_appliances\u001b[0m\u001b[1;33m(\u001b[0m\u001b[0mbuilding_metadata\u001b[0m\u001b[1;33m)\u001b[0m\u001b[1;33m\u001b[0m\u001b[0m\n\u001b[0m\u001b[0;32m     56\u001b[0m         \u001b[0mgroup\u001b[0m\u001b[1;33m.\u001b[0m\u001b[0m_f_setattr\u001b[0m\u001b[1;33m(\u001b[0m\u001b[1;34m'metadata'\u001b[0m\u001b[1;33m,\u001b[0m \u001b[0mbuilding_metadata\u001b[0m\u001b[1;33m)\u001b[0m\u001b[1;33m\u001b[0m\u001b[0m\n\u001b[0;32m     57\u001b[0m \u001b[1;33m\u001b[0m\u001b[0m\n",
      "\u001b[1;32mc:\\users\\gjwood\\nilm_metadata\\nilm_metadata\\convert_yaml_to_hdf5.pyc\u001b[0m in \u001b[0;36m_sanity_check_appliances\u001b[1;34m(building_metadata)\u001b[0m\n\u001b[0;32m    180\u001b[0m                    .format(building_metadata['instance'], appliance_type,\n\u001b[0;32m    181\u001b[0m                            len(instances), instances, correct_instances))\n\u001b[1;32m--> 182\u001b[1;33m             \u001b[1;32mraise\u001b[0m \u001b[0mNilmMetadataError\u001b[0m\u001b[1;33m(\u001b[0m\u001b[0mmsg\u001b[0m\u001b[1;33m)\u001b[0m\u001b[1;33m\u001b[0m\u001b[0m\n\u001b[0m",
      "\u001b[1;31mNilmMetadataError\u001b[0m: In building 1, appliance 'electric space heater' appears 3 times. The list of instances is '[1, 1, 1]'.  It should be '[1, 2, 3]'."
     ]
    }
   ],
   "source": [
    "from __future__ import print_function, division\n",
    "import os\n",
    "from os.path import join\n",
    "from nilmtk.utils import check_directory_exists\n",
    "from nilm_metadata import convert_yaml_to_hdf5\n",
    "\n",
    "home_dir='/Users/GJWood/nilm_gjw_data' # path to input data\n",
    "\n",
    "def refresh_gjw_metadata(gjw_path, output_filename, format=\"HDF\"):\n",
    "    \"\"\"\n",
    "    Parameters\n",
    "    ----------\n",
    "    gjw_path : str\n",
    "        The root path of the gjw dataset.\n",
    "    output_filename : str\n",
    "        The destination filename (including path and suffix), will default if not specified\n",
    "    directory and file structure\n",
    "    nilm_gjw_data\n",
    "        building<1>\n",
    "            elec\n",
    "                4-POWER_REAL_FINE <date> Dump.csv\n",
    "                5-POWER_REACTIVE_STANDARD <date> Dump.csv\n",
    "                ...\n",
    "        ...\n",
    "        building<n>\n",
    "        HDF5\n",
    "            nilm_gjw_data.hdf5\n",
    "        metadata\n",
    "            building1.yaml\n",
    "            dataset.yaml\n",
    "            meter_devices.yaml\n",
    "        other files    \n",
    "    \"\"\"\n",
    "    if gjw_path is None: gjw_path = home_dir\n",
    "    check_directory_exists(gjw_path)\n",
    "    os.chdir(gjw_path)\n",
    "    gjw_path = os.getcwd()  # sort out potential issue with slashes or backslashes\n",
    "    if output_filename is None:\n",
    "        output_filename =join(home_dir,'HDF5','nilm_gjw_data.hdf5')\n",
    "    convert_yaml_to_hdf5(join(gjw_path, 'metadata'),output_filename)\n",
    "    print(\"Done refreshing metadata\")\n",
    "    \n",
    "def main():\n",
    "    refresh_gjw_metadata('c:/Users/GJWood/nilm_gjw_data', None)\n",
    "\n",
    "if __name__ == '__main__':\n",
    "    main()"
   ]
  },
  {
   "cell_type": "code",
   "execution_count": null,
   "metadata": {
    "collapsed": true
   },
   "outputs": [],
   "source": []
  }
 ],
 "metadata": {
  "kernelspec": {
   "display_name": "Python 2",
   "language": "python",
   "name": "python2"
  },
  "language_info": {
   "codemirror_mode": {
    "name": "ipython",
    "version": 2
   },
   "file_extension": ".py",
   "mimetype": "text/x-python",
   "name": "python",
   "nbconvert_exporter": "python",
   "pygments_lexer": "ipython2",
   "version": "2.7.9"
  }
 },
 "nbformat": 4,
 "nbformat_minor": 0
}
