{
 "cells": [
  {
   "cell_type": "code",
   "execution_count": 24,
   "metadata": {
    "collapsed": false
   },
   "outputs": [
    {
     "name": "stdout",
     "output_type": "stream",
     "text": [
      "Current dir list: ['elec']\n"
     ]
    }
   ],
   "source": [
    "from os.path import isdir, join, dirname, abspath\n",
    "from os import listdir, getcwd\n",
    "homedir='/Users/GJWood/nilm_gjw_data/building1'\n",
    "dir_list = [i for i in listdir(homedir) if isdir(join(homedir,i))]\n",
    "dir_list.sort()\n",
    "while dir_list is not \n",
    "print 'Current dir list:',dir_list\n",
    "for folder in dir_list:"
   ]
  },
  {
   "cell_type": "code",
   "execution_count": 15,
   "metadata": {
    "collapsed": false
   },
   "outputs": [
    {
     "name": "stdout",
     "output_type": "stream",
     "text": [
      "['4-POWER_REAL_FINE 2013-11-20 Dump.csv', '4-POWER_REAL_FINE 2013-11-28 Dump.csv', '4-POWER_REAL_FINE 2013-12-01 Dump.csv', '4-POWER_REAL_FINE 2013-12-04 Dump.csv', '4-POWER_REAL_FINE 2013-12-13 Dump.csv', '4-POWER_REAL_FINE 2013-12-27 Dump.csv', '4-POWER_REAL_FINE 2014-01-09 Dump.csv', '4-POWER_REAL_FINE 2014-02-09 Dump.csv', '4-POWER_REAL_FINE 2014-03-27 Dump.csv', '4-POWER_REAL_FINE 2014-05-26 Dump.csv', '4-POWER_REAL_FINE 2015-05-12 Dump.csv', '4-POWER_REAL_FINE 2015-05-27 dump.csv', '5-POWER_REACTIVE_STANDARD 2013-11-20 Dump.csv', '5-POWER_REACTIVE_STANDARD 2013-11-28 Dump.csv', '5-POWER_REACTIVE_STANDARD 2013-12-01 Dump.csv', '5-POWER_REACTIVE_STANDARD 2013-12-04 Dump.csv', '5-POWER_REACTIVE_STANDARD 2013-12-13 Dump.csv', '5-POWER_REACTIVE_STANDARD 2013-12-27 Dump.csv', '5-POWER_REACTIVE_STANDARD 2014-01-09 Dump.csv', '5-POWER_REACTIVE_STANDARD 2014-02-09 Dump.csv', '5-POWER_REACTIVE_STANDARD 2014-03-27 Dump.csv', '5-POWER_REACTIVE_STANDARD 2014-05-26 Dump.csv', '5-POWER_REACTIVE_STANDARD 2015-05-12 Dump.csv', '5-POWER_REACTIVE_STANDARD 2015-05-27 dump.csv']\n"
     ]
    }
   ],
   "source": [
    "from os import listdir, getcwd\n",
    "dir_list = listdir('/Users/GJWood/nilm_gjw_data/building1/elec'/Users)\n",
    "dir_list.sort()\n",
    "print dir_list"
   ]
  },
  {
   "cell_type": "code",
   "execution_count": 47,
   "metadata": {
    "collapsed": false
   },
   "outputs": [
    {
     "name": "stdout",
     "output_type": "stream",
     "text": [
      "current_dir c:\\Users\\GJWood\\nilm_gjw_data cwd c:\\Users\\GJWood\\nilm_gjw_data\n",
      "['.ipynb_checkpoints', 'building1', 'HDF5', 'metadata']\n",
      "current_dir c:\\Users\\GJWood\\nilm_gjw_data\\.ipynb_checkpoints cwd c:\\Users\\GJWood\\nilm_gjw_data\n",
      "[]\n",
      "current_dir c:\\Users\\GJWood\\nilm_gjw_data\\building1 cwd c:\\Users\\GJWood\\nilm_gjw_data\n",
      "['elec']\n",
      "current_dir c:\\Users\\GJWood\\nilm_gjw_data\\building1\\elec cwd c:\\Users\\GJWood\\nilm_gjw_data\n",
      "[]\n",
      "4-POWER_REAL_FINE 2013-11-20 Dump.csv <-> 5-POWER_REACTIVE_STANDARD 2013-11-20 Dump.csv\n",
      "4-POWER_REAL_FINE 2013-11-28 Dump.csv <-> 5-POWER_REACTIVE_STANDARD 2013-11-28 Dump.csv\n",
      "4-POWER_REAL_FINE 2013-12-01 Dump.csv <-> 5-POWER_REACTIVE_STANDARD 2013-12-01 Dump.csv\n",
      "4-POWER_REAL_FINE 2013-12-04 Dump.csv <-> 5-POWER_REACTIVE_STANDARD 2013-12-04 Dump.csv\n",
      "4-POWER_REAL_FINE 2013-12-13 Dump.csv <-> 5-POWER_REACTIVE_STANDARD 2013-12-13 Dump.csv\n",
      "4-POWER_REAL_FINE 2013-12-27 Dump.csv <-> 5-POWER_REACTIVE_STANDARD 2013-12-27 Dump.csv\n",
      "4-POWER_REAL_FINE 2014-01-09 Dump.csv <-> 5-POWER_REACTIVE_STANDARD 2014-01-09 Dump.csv\n",
      "4-POWER_REAL_FINE 2014-02-09 Dump.csv <-> 5-POWER_REACTIVE_STANDARD 2014-02-09 Dump.csv\n",
      "4-POWER_REAL_FINE 2014-03-27 Dump.csv <-> 5-POWER_REACTIVE_STANDARD 2014-03-27 Dump.csv\n",
      "4-POWER_REAL_FINE 2014-05-26 Dump.csv <-> 5-POWER_REACTIVE_STANDARD 2014-05-26 Dump.csv\n",
      "4-POWER_REAL_FINE 2015-05-12 Dump.csv <-> 5-POWER_REACTIVE_STANDARD 2015-05-12 Dump.csv\n",
      "4-POWER_REAL_FINE 2015-05-27 Dump.csv <-> 5-POWER_REACTIVE_STANDARD 2015-05-27 Dump.csv\n",
      "current_dir c:\\Users\\GJWood\\nilm_gjw_data\\HDF5 cwd c:\\Users\\GJWood\\nilm_gjw_data\n",
      "[]\n",
      "current_dir c:\\Users\\GJWood\\nilm_gjw_data\\metadata cwd c:\\Users\\GJWood\\nilm_gjw_data\n",
      "[]\n",
      "                           active  reactive\n",
      "2013-11-12 09:28:27+00:00    2553      -319\n",
      "2013-11-12 09:28:30+00:00    2553        22\n",
      "2013-11-12 09:28:31+00:00    2553       157\n",
      "2013-11-12 09:28:32+00:00    2637       157\n",
      "2013-11-12 09:28:59+00:00    2552      -230\n",
      "2013-11-12 09:29:00+00:00    2487       302\n",
      "2013-11-12 09:29:01+00:00    2487        36\n",
      "2013-11-12 09:29:04+00:00    2638      -730\n",
      "2013-11-12 09:29:15+00:00    2539       134\n",
      "2013-11-12 09:29:19+00:00    2688      -556\n",
      "2013-11-12 09:29:31+00:00    2496       128\n",
      "2013-11-12 09:29:47+00:00    2449        68\n",
      "2013-11-12 09:29:51+00:00    2532      -491\n",
      "2013-11-12 09:30:03+00:00    2471       165\n",
      "2013-11-12 09:30:04+00:00    2530       165\n",
      "2013-11-12 09:30:23+00:00    2603      -319\n",
      "2013-11-12 09:30:27+00:00    2568      -450\n",
      "2013-11-12 09:30:38+00:00     588      -475\n",
      "2013-11-12 09:30:39+00:00     588      -787\n",
      "2013-11-12 09:30:40+00:00     545      -787\n",
      "2013-11-12 09:30:44+00:00     494      -644\n",
      "2013-11-12 09:30:47+00:00     368        30\n",
      "2013-11-12 09:30:48+00:00     390        30\n",
      "2013-11-12 09:30:51+00:00     586      -818\n",
      "2013-11-12 09:30:52+00:00     488      -818\n",
      "2013-11-12 09:30:56+00:00     549      -442\n",
      "2013-11-12 09:31:00+00:00     506      -653\n",
      "2013-11-12 09:31:03+00:00     348        72\n",
      "2013-11-12 09:31:04+00:00     388        72\n",
      "2013-11-12 09:31:07+00:00     588      -788\n",
      "...                           ...       ...\n",
      "2015-05-27 11:41:33+01:00     334       112\n",
      "2015-05-27 11:41:34+01:00     362        80\n",
      "2015-05-27 11:43:55+01:00     361        78\n",
      "2015-05-27 11:43:56+01:00     329       116\n",
      "2015-05-27 11:53:06+01:00     389       127\n",
      "2015-05-27 11:53:07+01:00     433        93\n",
      "2015-05-27 11:55:01+01:00     373        85\n",
      "2015-05-27 11:55:02+01:00     337       121\n",
      "2015-05-27 12:24:58+01:00     280       118\n",
      "2015-05-27 12:24:59+01:00     234        76\n",
      "2015-05-27 12:32:17+01:00     238        52\n",
      "2015-05-27 12:59:19+01:00     331       112\n",
      "2015-05-27 12:59:20+01:00     413        88\n",
      "2015-05-27 13:06:46+01:00     203        82\n",
      "2015-05-27 13:07:35+01:00     278       133\n",
      "2015-05-27 13:16:13+01:00     287       121\n",
      "2015-05-27 13:16:14+01:00     236        74\n",
      "2015-05-27 13:32:23+01:00     423       105\n",
      "2015-05-27 13:32:24+01:00     369       127\n",
      "2015-05-27 13:37:17+01:00     333       137\n",
      "2015-05-27 13:37:18+01:00     397       161\n",
      "2015-05-27 13:52:28+01:00     389        98\n",
      "2015-05-27 13:54:36+01:00    2498       309\n",
      "2015-05-27 14:02:15+01:00    2481       316\n",
      "2015-05-27 14:02:16+01:00    2505       344\n",
      "2015-05-27 14:04:53+01:00     442       122\n",
      "2015-05-27 14:08:54+01:00     472       145\n",
      "2015-05-27 14:08:55+01:00     416       175\n",
      "2015-05-27 14:15:53+01:00     377       179\n",
      "2015-05-27 14:41:08+01:00    1048       183\n",
      "\n",
      "[80297 rows x 2 columns]\n"
     ]
    }
   ],
   "source": [
    "import pandas as pd\n",
    "import numpy as np\n",
    "from copy import deepcopy\n",
    "from os.path import join, isdir, isfile\n",
    "from os import listdir\n",
    "import fnmatch\n",
    "import re\n",
    "import datetime\n",
    "from sys import stdout\n",
    "from nilmtk.utils import get_datastore\n",
    "from nilmtk.datastore import Key\n",
    "from nilmtk.timeframe import TimeFrame\n",
    "from nilmtk.measurement import LEVEL_NAMES\n",
    "from nilmtk.utils import get_module_directory, check_directory_exists\n",
    "from nilm_metadata import convert_yaml_to_hdf5, save_yaml_to_datastore\n",
    "filename_prefix_mapping = {\n",
    "\t'apparent' : ('4-POWER_REAL_FINE '),\n",
    "\t'reactive' : ('5-POWER_REACTIVE_STANDARD ')\n",
    "}\n",
    "filename_suffix_mapping = {\n",
    "\t'apparent' : (' Dump'),\n",
    "\t'reactive' : (' Dump')\n",
    "}\n",
    "TIMEZONE = \"Europe/London\"\n",
    "TIMESTAMP_COLUMN_NAME = \"timestamp\"\n",
    "ACTIVE_COLUMN_NAME = \"active\"\n",
    "REACTIVE_COLUMN_NAME = \"reactive\"\n",
    "bld_re = re.compile('building\\d+')\n",
    "bld_nbr_re = re.compile ('\\d+')\n",
    "iso_date_re = re.compile ('\\d{4}-\\d{2}-\\d{2}') # used to pull the date from the file name\n",
    "os.chdir('/Users/GJWood/nilm_gjw_data')\n",
    "df = pd.DataFrame(columns=[TIMESTAMP_COLUMN_NAME,ACTIVE_COLUMN_NAME,REACTIVE_COLUMN_NAME])\n",
    "for current_dir, dirs_in_current_dir, files in os.walk(os.getcwd()):\n",
    "    print 'current_dir',current_dir,'cwd',  os.getcwd()\n",
    "    print dirs_in_current_dir\n",
    "    m = bld_re.search(current_dir)\n",
    "    if m:\n",
    "        building_name = m.group()\n",
    "        building_number = int(bld_nbr_re.search(building_name).group())\n",
    "    for items in fnmatch.filter(files, \"4*.csv\"):\n",
    "        d= iso_date_re.search(items).group()\n",
    "        fn1 = filename_prefix_mapping['apparent']+d+filename_suffix_mapping['apparent']+'.csv'\n",
    "        fn2 = filename_prefix_mapping['reactive']+d+filename_suffix_mapping['reactive']+'.csv'\n",
    "        print fn1 +' <-> '+ fn2\n",
    "        ffn1 = join(current_dir,fn1)\n",
    "        ffn2 = join(current_dir,fn2)\n",
    "        df1 = pd.read_csv(ffn1,names=[TIMESTAMP_COLUMN_NAME,ACTIVE_COLUMN_NAME])\n",
    "        df2 = pd.read_csv(ffn2,names=[TIMESTAMP_COLUMN_NAME,REACTIVE_COLUMN_NAME])\n",
    "        df3 = pd.merge(df1,df2,on=TIMESTAMP_COLUMN_NAME)\n",
    "        df = pd.concat([df,df3])\n",
    "df.drop_duplicates(subset=[TIMESTAMP_COLUMN_NAME], inplace=True)\n",
    "df.index = pd.to_datetime(df.timestamp.values, unit='s', utc=True)\n",
    "df = df.tz_convert(TIMEZONE)\n",
    "df = df.drop(TIMESTAMP_COLUMN_NAME, 1)\n",
    "print df\n",
    "        \n"
   ]
  },
  {
   "cell_type": "code",
   "execution_count": 57,
   "metadata": {
    "collapsed": false
   },
   "outputs": [
    {
     "name": "stdout",
     "output_type": "stream",
     "text": [
      "/Users/GJWood/nilm_gjw_data/building1\\HDF5\\nilm_gjw_data.hdf5\n"
     ]
    }
   ],
   "source": [
    "print join(homedir,\"HDF5\",\"nilm_gjw_data.hdf5\")\n"
   ]
  },
  {
   "cell_type": "code",
   "execution_count": null,
   "metadata": {
    "collapsed": true
   },
   "outputs": [],
   "source": []
  }
 ],
 "metadata": {
  "kernelspec": {
   "display_name": "Python 2",
   "language": "python",
   "name": "python2"
  },
  "language_info": {
   "codemirror_mode": {
    "name": "ipython",
    "version": 2
   },
   "file_extension": ".py",
   "mimetype": "text/x-python",
   "name": "python",
   "nbconvert_exporter": "python",
   "pygments_lexer": "ipython2",
   "version": "2.7.9"
  }
 },
 "nbformat": 4,
 "nbformat_minor": 0
}
