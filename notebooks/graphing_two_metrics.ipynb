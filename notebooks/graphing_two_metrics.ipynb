{
 "cells": [
  {
   "cell_type": "markdown",
   "metadata": {},
   "source": [
    "#Answer to - How do I combine and display apparent and reactive power data on the same graph?#\n",
    "\n",
    "##Starting assumptions##\n",
    "  1. The nilmtk is installed and working, along with all of its dependencies\n",
    "  2. IPython notebook is installed and working and you know how to use it\n",
    "  3. You have a dataset available that contains the data you want to display\n",
    "  4. You have imported the data into the toolkit by creating a HDF5 file containg the data and metadata\n",
    "\n",
    "##The steps to follow are listed below##"
   ]
  },
  {
   "cell_type": "markdown",
   "metadata": {},
   "source": [
    "##Step-1 Imports and graph setup##"
   ]
  },
  {
   "cell_type": "code",
   "execution_count": 1,
   "metadata": {
    "collapsed": true
   },
   "outputs": [],
   "source": [
    "from matplotlib import rcParams\n",
    "import matplotlib.pyplot as plt\n",
    "%matplotlib inline\n",
    "rcParams['figure.figsize'] = (13, 6)\n",
    "plt.style.use('ggplot')\n",
    "from nilmtk import DataSet"
   ]
  },
  {
   "cell_type": "markdown",
   "metadata": {},
   "source": [
    "##Step-2 Import the data and extract the part you are interested in"
   ]
  },
  {
   "cell_type": "code",
   "execution_count": 2,
   "metadata": {
    "collapsed": false,
    "scrolled": true
   },
   "outputs": [
    {
     "data": {
      "text/plain": [
       "<bound method DataFrame.info of physical_quantity          power\n",
       "type                      active\n",
       "2013-11-13 00:00:00+00:00    545\n",
       "2013-11-13 00:00:01+00:00    545\n",
       "2013-11-13 00:00:02+00:00    545\n",
       "2013-11-13 00:00:03+00:00    545\n",
       "2013-11-13 00:00:04+00:00    545\n",
       "2013-11-13 00:00:05+00:00    545\n",
       "2013-11-13 00:00:06+00:00    545\n",
       "2013-11-13 00:00:07+00:00    545\n",
       "2013-11-13 00:00:08+00:00    545\n",
       "2013-11-13 00:00:09+00:00    545\n",
       "2013-11-13 00:00:10+00:00    545\n",
       "2013-11-13 00:00:11+00:00    545\n",
       "2013-11-13 00:00:12+00:00    545\n",
       "2013-11-13 00:00:13+00:00    545\n",
       "2013-11-13 00:00:14+00:00    545\n",
       "2013-11-13 00:00:15+00:00    545\n",
       "2013-11-13 00:00:16+00:00    545\n",
       "2013-11-13 00:00:17+00:00    545\n",
       "2013-11-13 00:00:18+00:00    545\n",
       "2013-11-13 00:00:19+00:00    545\n",
       "2013-11-13 00:00:20+00:00    545\n",
       "2013-11-13 00:00:21+00:00    545\n",
       "2013-11-13 00:00:22+00:00    545\n",
       "2013-11-13 00:00:23+00:00    545\n",
       "2013-11-13 00:00:24+00:00    545\n",
       "2013-11-13 00:00:25+00:00    545\n",
       "2013-11-13 00:00:26+00:00    545\n",
       "2013-11-13 00:00:27+00:00    545\n",
       "2013-11-13 00:00:28+00:00    545\n",
       "2013-11-13 00:00:29+00:00    545\n",
       "...                          ...\n",
       "2013-11-13 23:59:30+00:00    596\n",
       "2013-11-13 23:59:31+00:00    596\n",
       "2013-11-13 23:59:32+00:00    596\n",
       "2013-11-13 23:59:33+00:00    596\n",
       "2013-11-13 23:59:34+00:00    596\n",
       "2013-11-13 23:59:35+00:00    596\n",
       "2013-11-13 23:59:36+00:00    596\n",
       "2013-11-13 23:59:37+00:00    596\n",
       "2013-11-13 23:59:38+00:00    596\n",
       "2013-11-13 23:59:39+00:00    596\n",
       "2013-11-13 23:59:40+00:00    596\n",
       "2013-11-13 23:59:41+00:00    596\n",
       "2013-11-13 23:59:42+00:00    596\n",
       "2013-11-13 23:59:43+00:00    596\n",
       "2013-11-13 23:59:44+00:00    596\n",
       "2013-11-13 23:59:45+00:00    596\n",
       "2013-11-13 23:59:46+00:00    596\n",
       "2013-11-13 23:59:47+00:00    596\n",
       "2013-11-13 23:59:48+00:00    596\n",
       "2013-11-13 23:59:49+00:00    596\n",
       "2013-11-13 23:59:50+00:00    596\n",
       "2013-11-13 23:59:51+00:00    596\n",
       "2013-11-13 23:59:52+00:00    596\n",
       "2013-11-13 23:59:53+00:00    596\n",
       "2013-11-13 23:59:54+00:00    596\n",
       "2013-11-13 23:59:55+00:00    596\n",
       "2013-11-13 23:59:56+00:00    596\n",
       "2013-11-13 23:59:57+00:00    596\n",
       "2013-11-13 23:59:58+00:00    596\n",
       "2013-11-13 23:59:59+00:00    596\n",
       "\n",
       "[86400 rows x 1 columns]>"
      ]
     },
     "execution_count": 2,
     "metadata": {},
     "output_type": "execute_result"
    }
   ],
   "source": [
    "gjw = DataSet('/Users/GJWood/nilm_gjw_data/HDF5/nilm_gjw_data.hdf5') #load the data from HDF5 file\n",
    "gjw.set_window(start='2013-11-13 00:00:00', end='2013-11-14 00:00:00') #select a portion of the data\n",
    "elec = gjw.buildings[1].elec #Select the relevant meter group\n",
    "\n",
    "house = elec['fridge'] #only one meter so any selection will do\n",
    "df = house.load(ac_type='active').next()\n",
    "df.info"
   ]
  },
  {
   "cell_type": "code",
   "execution_count": 3,
   "metadata": {
    "collapsed": false
   },
   "outputs": [
    {
     "data": {
      "text/plain": [
       "<bound method DataFrame.info of physical_quantity            power       \n",
       "type                      reactive active\n",
       "2013-11-13 00:00:00+00:00       81    545\n",
       "2013-11-13 00:00:01+00:00       81    545\n",
       "2013-11-13 00:00:02+00:00       81    545\n",
       "2013-11-13 00:00:03+00:00       81    545\n",
       "2013-11-13 00:00:04+00:00       81    545\n",
       "2013-11-13 00:00:05+00:00       81    545\n",
       "2013-11-13 00:00:06+00:00       81    545\n",
       "2013-11-13 00:00:07+00:00       81    545\n",
       "2013-11-13 00:00:08+00:00       81    545\n",
       "2013-11-13 00:00:09+00:00       81    545\n",
       "2013-11-13 00:00:10+00:00       81    545\n",
       "2013-11-13 00:00:11+00:00       81    545\n",
       "2013-11-13 00:00:12+00:00       81    545\n",
       "2013-11-13 00:00:13+00:00       81    545\n",
       "2013-11-13 00:00:14+00:00       81    545\n",
       "2013-11-13 00:00:15+00:00       81    545\n",
       "2013-11-13 00:00:16+00:00       81    545\n",
       "2013-11-13 00:00:17+00:00       81    545\n",
       "2013-11-13 00:00:18+00:00       81    545\n",
       "2013-11-13 00:00:19+00:00       81    545\n",
       "2013-11-13 00:00:20+00:00       81    545\n",
       "2013-11-13 00:00:21+00:00       81    545\n",
       "2013-11-13 00:00:22+00:00       81    545\n",
       "2013-11-13 00:00:23+00:00       81    545\n",
       "2013-11-13 00:00:24+00:00       81    545\n",
       "2013-11-13 00:00:25+00:00       81    545\n",
       "2013-11-13 00:00:26+00:00       81    545\n",
       "2013-11-13 00:00:27+00:00       81    545\n",
       "2013-11-13 00:00:28+00:00       81    545\n",
       "2013-11-13 00:00:29+00:00       81    545\n",
       "...                            ...    ...\n",
       "2013-11-13 23:59:30+00:00       75    596\n",
       "2013-11-13 23:59:31+00:00       75    596\n",
       "2013-11-13 23:59:32+00:00       75    596\n",
       "2013-11-13 23:59:33+00:00       75    596\n",
       "2013-11-13 23:59:34+00:00       75    596\n",
       "2013-11-13 23:59:35+00:00       75    596\n",
       "2013-11-13 23:59:36+00:00       75    596\n",
       "2013-11-13 23:59:37+00:00       75    596\n",
       "2013-11-13 23:59:38+00:00       75    596\n",
       "2013-11-13 23:59:39+00:00       75    596\n",
       "2013-11-13 23:59:40+00:00       75    596\n",
       "2013-11-13 23:59:41+00:00       75    596\n",
       "2013-11-13 23:59:42+00:00       75    596\n",
       "2013-11-13 23:59:43+00:00       75    596\n",
       "2013-11-13 23:59:44+00:00       75    596\n",
       "2013-11-13 23:59:45+00:00       75    596\n",
       "2013-11-13 23:59:46+00:00       75    596\n",
       "2013-11-13 23:59:47+00:00       75    596\n",
       "2013-11-13 23:59:48+00:00       75    596\n",
       "2013-11-13 23:59:49+00:00       75    596\n",
       "2013-11-13 23:59:50+00:00       75    596\n",
       "2013-11-13 23:59:51+00:00       75    596\n",
       "2013-11-13 23:59:52+00:00       75    596\n",
       "2013-11-13 23:59:53+00:00       75    596\n",
       "2013-11-13 23:59:54+00:00       75    596\n",
       "2013-11-13 23:59:55+00:00       75    596\n",
       "2013-11-13 23:59:56+00:00       75    596\n",
       "2013-11-13 23:59:57+00:00       75    596\n",
       "2013-11-13 23:59:58+00:00       75    596\n",
       "2013-11-13 23:59:59+00:00       75    596\n",
       "\n",
       "[86400 rows x 2 columns]>"
      ]
     },
     "execution_count": 3,
     "metadata": {},
     "output_type": "execute_result"
    }
   ],
   "source": [
    "df = house.load(ac_type=['active', 'reactive']).next()\n",
    "df.info"
   ]
  },
  {
   "cell_type": "code",
   "execution_count": 4,
   "metadata": {
    "collapsed": false
   },
   "outputs": [
    {
     "data": {
      "text/plain": [
       "<bound method DataFrame.info of physical_quantity          power\n",
       "type                      active\n",
       "2013-11-13 00:00:00+00:00    545\n",
       "2013-11-13 00:00:01+00:00    545\n",
       "2013-11-13 00:00:02+00:00    545\n",
       "2013-11-13 00:00:03+00:00    545\n",
       "2013-11-13 00:00:04+00:00    545\n",
       "2013-11-13 00:00:05+00:00    545\n",
       "2013-11-13 00:00:06+00:00    545\n",
       "2013-11-13 00:00:07+00:00    545\n",
       "2013-11-13 00:00:08+00:00    545\n",
       "2013-11-13 00:00:09+00:00    545\n",
       "2013-11-13 00:00:10+00:00    545\n",
       "2013-11-13 00:00:11+00:00    545\n",
       "2013-11-13 00:00:12+00:00    545\n",
       "2013-11-13 00:00:13+00:00    545\n",
       "2013-11-13 00:00:14+00:00    545\n",
       "2013-11-13 00:00:15+00:00    545\n",
       "2013-11-13 00:00:16+00:00    545\n",
       "2013-11-13 00:00:17+00:00    545\n",
       "2013-11-13 00:00:18+00:00    545\n",
       "2013-11-13 00:00:19+00:00    545\n",
       "2013-11-13 00:00:20+00:00    545\n",
       "2013-11-13 00:00:21+00:00    545\n",
       "2013-11-13 00:00:22+00:00    545\n",
       "2013-11-13 00:00:23+00:00    545\n",
       "2013-11-13 00:00:24+00:00    545\n",
       "2013-11-13 00:00:25+00:00    545\n",
       "2013-11-13 00:00:26+00:00    545\n",
       "2013-11-13 00:00:27+00:00    545\n",
       "2013-11-13 00:00:28+00:00    545\n",
       "2013-11-13 00:00:29+00:00    545\n",
       "...                          ...\n",
       "2013-11-13 23:59:30+00:00    596\n",
       "2013-11-13 23:59:31+00:00    596\n",
       "2013-11-13 23:59:32+00:00    596\n",
       "2013-11-13 23:59:33+00:00    596\n",
       "2013-11-13 23:59:34+00:00    596\n",
       "2013-11-13 23:59:35+00:00    596\n",
       "2013-11-13 23:59:36+00:00    596\n",
       "2013-11-13 23:59:37+00:00    596\n",
       "2013-11-13 23:59:38+00:00    596\n",
       "2013-11-13 23:59:39+00:00    596\n",
       "2013-11-13 23:59:40+00:00    596\n",
       "2013-11-13 23:59:41+00:00    596\n",
       "2013-11-13 23:59:42+00:00    596\n",
       "2013-11-13 23:59:43+00:00    596\n",
       "2013-11-13 23:59:44+00:00    596\n",
       "2013-11-13 23:59:45+00:00    596\n",
       "2013-11-13 23:59:46+00:00    596\n",
       "2013-11-13 23:59:47+00:00    596\n",
       "2013-11-13 23:59:48+00:00    596\n",
       "2013-11-13 23:59:49+00:00    596\n",
       "2013-11-13 23:59:50+00:00    596\n",
       "2013-11-13 23:59:51+00:00    596\n",
       "2013-11-13 23:59:52+00:00    596\n",
       "2013-11-13 23:59:53+00:00    596\n",
       "2013-11-13 23:59:54+00:00    596\n",
       "2013-11-13 23:59:55+00:00    596\n",
       "2013-11-13 23:59:56+00:00    596\n",
       "2013-11-13 23:59:57+00:00    596\n",
       "2013-11-13 23:59:58+00:00    596\n",
       "2013-11-13 23:59:59+00:00    596\n",
       "\n",
       "[86400 rows x 1 columns]>"
      ]
     },
     "execution_count": 4,
     "metadata": {},
     "output_type": "execute_result"
    }
   ],
   "source": [
    "df = house.load(cols=[('power', 'active')]).next()\n",
    "df.info"
   ]
  },
  {
   "cell_type": "code",
   "execution_count": 5,
   "metadata": {
    "collapsed": false
   },
   "outputs": [
    {
     "data": {
      "text/plain": [
       "<bound method DataFrame.info of physical_quantity          power         \n",
       "type                      active reactive\n",
       "2013-11-13 00:00:00+00:00    545       81\n",
       "2013-11-13 00:00:01+00:00    545       81\n",
       "2013-11-13 00:00:02+00:00    545       81\n",
       "2013-11-13 00:00:03+00:00    545       81\n",
       "2013-11-13 00:00:04+00:00    545       81\n",
       "2013-11-13 00:00:05+00:00    545       81\n",
       "2013-11-13 00:00:06+00:00    545       81\n",
       "2013-11-13 00:00:07+00:00    545       81\n",
       "2013-11-13 00:00:08+00:00    545       81\n",
       "2013-11-13 00:00:09+00:00    545       81\n",
       "2013-11-13 00:00:10+00:00    545       81\n",
       "2013-11-13 00:00:11+00:00    545       81\n",
       "2013-11-13 00:00:12+00:00    545       81\n",
       "2013-11-13 00:00:13+00:00    545       81\n",
       "2013-11-13 00:00:14+00:00    545       81\n",
       "2013-11-13 00:00:15+00:00    545       81\n",
       "2013-11-13 00:00:16+00:00    545       81\n",
       "2013-11-13 00:00:17+00:00    545       81\n",
       "2013-11-13 00:00:18+00:00    545       81\n",
       "2013-11-13 00:00:19+00:00    545       81\n",
       "2013-11-13 00:00:20+00:00    545       81\n",
       "2013-11-13 00:00:21+00:00    545       81\n",
       "2013-11-13 00:00:22+00:00    545       81\n",
       "2013-11-13 00:00:23+00:00    545       81\n",
       "2013-11-13 00:00:24+00:00    545       81\n",
       "2013-11-13 00:00:25+00:00    545       81\n",
       "2013-11-13 00:00:26+00:00    545       81\n",
       "2013-11-13 00:00:27+00:00    545       81\n",
       "2013-11-13 00:00:28+00:00    545       81\n",
       "2013-11-13 00:00:29+00:00    545       81\n",
       "...                          ...      ...\n",
       "2013-11-13 23:59:30+00:00    596       75\n",
       "2013-11-13 23:59:31+00:00    596       75\n",
       "2013-11-13 23:59:32+00:00    596       75\n",
       "2013-11-13 23:59:33+00:00    596       75\n",
       "2013-11-13 23:59:34+00:00    596       75\n",
       "2013-11-13 23:59:35+00:00    596       75\n",
       "2013-11-13 23:59:36+00:00    596       75\n",
       "2013-11-13 23:59:37+00:00    596       75\n",
       "2013-11-13 23:59:38+00:00    596       75\n",
       "2013-11-13 23:59:39+00:00    596       75\n",
       "2013-11-13 23:59:40+00:00    596       75\n",
       "2013-11-13 23:59:41+00:00    596       75\n",
       "2013-11-13 23:59:42+00:00    596       75\n",
       "2013-11-13 23:59:43+00:00    596       75\n",
       "2013-11-13 23:59:44+00:00    596       75\n",
       "2013-11-13 23:59:45+00:00    596       75\n",
       "2013-11-13 23:59:46+00:00    596       75\n",
       "2013-11-13 23:59:47+00:00    596       75\n",
       "2013-11-13 23:59:48+00:00    596       75\n",
       "2013-11-13 23:59:49+00:00    596       75\n",
       "2013-11-13 23:59:50+00:00    596       75\n",
       "2013-11-13 23:59:51+00:00    596       75\n",
       "2013-11-13 23:59:52+00:00    596       75\n",
       "2013-11-13 23:59:53+00:00    596       75\n",
       "2013-11-13 23:59:54+00:00    596       75\n",
       "2013-11-13 23:59:55+00:00    596       75\n",
       "2013-11-13 23:59:56+00:00    596       75\n",
       "2013-11-13 23:59:57+00:00    596       75\n",
       "2013-11-13 23:59:58+00:00    596       75\n",
       "2013-11-13 23:59:59+00:00    596       75\n",
       "\n",
       "[86400 rows x 2 columns]>"
      ]
     },
     "execution_count": 5,
     "metadata": {},
     "output_type": "execute_result"
    }
   ],
   "source": [
    "df = house.load(cols=[('power', 'active'), ('power', 'reactive')]).next()\n",
    "df.info"
   ]
  },
  {
   "cell_type": "code",
   "execution_count": null,
   "metadata": {
    "collapsed": true
   },
   "outputs": [],
   "source": [
    "df = house.load().next() #load the first chunk of data into a dataframe\n",
    "df.info() #check that the data is what we want (optional)\n",
    "#note the data has two columns and a time index\n",
    "#The period is one day, containing 86400 entries, one per second"
   ]
  },
  {
   "cell_type": "markdown",
   "metadata": {},
   "source": [
    "##Step-3 Plot the data from the dataframe##"
   ]
  },
  {
   "cell_type": "code",
   "execution_count": 6,
   "metadata": {
    "collapsed": false
   },
   "outputs": [
    {
     "data": {
      "text/plain": [
       "<matplotlib.axes._subplots.AxesSubplot at 0x17789908>"
      ]
     },
     "execution_count": 6,
     "metadata": {},
     "output_type": "execute_result"
    },
    {
     "data": {
      "image/png": "[encoded data removed]",
      "text/plain": [
       "<matplotlib.figure.Figure at 0x1779ab38>"
      ]
     },
     "metadata": {},
     "output_type": "display_data"
    }
   ],
   "source": [
    "df.plot()"
   ]
  },
  {
   "cell_type": "markdown",
   "metadata": {},
   "source": [
    "##Step-4 Zoom in on a time period of interest (optional)##"
   ]
  },
  {
   "cell_type": "code",
   "execution_count": 7,
   "metadata": {
    "collapsed": false,
    "scrolled": false
   },
   "outputs": [
    {
     "data": {
      "text/plain": [
       "<matplotlib.axes._subplots.AxesSubplot at 0x1779a8d0>"
      ]
     },
     "execution_count": 7,
     "metadata": {},
     "output_type": "execute_result"
    },
    {
     "data": {
      "image/png": "[encoded data removed]",
      "text/plain": [
       "<matplotlib.figure.Figure at 0x19a208d0>"
      ]
     },
     "metadata": {},
     "output_type": "display_data"
    }
   ],
   "source": [
    "df.ix['2013-11-13 06:30:00':'2013-11-13 07:30:00'].plot()# select a time range and plot it"
   ]
  },
  {
   "cell_type": "markdown",
   "metadata": {},
   "source": [
    "##Step-5 See what is attached to this meter (optional)##"
   ]
  },
  {
   "cell_type": "code",
   "execution_count": 8,
   "metadata": {
    "collapsed": false
   },
   "outputs": [
    {
     "data": {
      "text/plain": [
       "ElecMeter(instance=1, building=1, dataset='gjwdata', site_meter, appliances=[Appliance(type='washing machine', instance=1), Appliance(type='tumble dryer', instance=1), Appliance(type='freezer', instance=1), Appliance(type='boiler', instance=1), Appliance(type='light', instance=1), Appliance(type='light', instance=2), Appliance(type='clothes iron', instance=1), Appliance(type='food steamer', instance=1), Appliance(type='kettle', instance=1), Appliance(type='toaster', instance=1), Appliance(type='coffee maker', instance=1), Appliance(type='microwave', instance=1), Appliance(type='electric oven', instance=1), Appliance(type='fridge', instance=1), Appliance(type='dish washer', instance=1), Appliance(type='waste disposal unit', instance=1), Appliance(type='water filter', instance=1), Appliance(type='fan', instance=1), Appliance(type='light', instance=3), Appliance(type='mobile phone charger', instance=1), Appliance(type='television', instance=1), Appliance(type='server computer', instance=1), Appliance(type='wireless phone charger', instance=1), Appliance(type='light', instance=4), Appliance(type='light', instance=5), Appliance(type='light', instance=6), Appliance(type='vacuum cleaner', instance=1), Appliance(type='vacuum cleaner', instance=2), Appliance(type='television', instance=2), Appliance(type='blu-ray player', instance=1), Appliance(type='light', instance=7), Appliance(type='light', instance=8), Appliance(type='audio system', instance=1), Appliance(type='CD player', instance=1), Appliance(type='light', instance=9), Appliance(type='light', instance=10), Appliance(type='light', instance=11), Appliance(type='plate warmer', instance=1), Appliance(type='light', instance=12), Appliance(type='motor', instance=1), Appliance(type='light', instance=13), Appliance(type='electric space heater', instance=1), Appliance(type='light', instance=14), Appliance(type='light', instance=15), Appliance(type='water pump', instance=1), Appliance(type='CE appliance', instance=1), Appliance(type='light', instance=16), Appliance(type='radio', instance=1), Appliance(type='wireless phone charger', instance=2), Appliance(type='electric blanket', instance=1), Appliance(type='television', instance=3), Appliance(type='electric space heater', instance=2), Appliance(type='light', instance=17), Appliance(type='light', instance=18), Appliance(type='electric space heater', instance=3), Appliance(type='light', instance=19), Appliance(type='light', instance=20), Appliance(type='light', instance=21), Appliance(type='light', instance=22), Appliance(type='radio', instance=2), Appliance(type='computer', instance=1), Appliance(type='computer monitor', instance=2), Appliance(type='computer monitor', instance=1), Appliance(type='computer monitor', instance=3), Appliance(type='multi-function device', instance=1), Appliance(type='wireless phone charger', instance=3), Appliance(type='light', instance=23), Appliance(type='computer', instance=2), Appliance(type='computer', instance=3), Appliance(type='computer monitor', instance=4), Appliance(type='television', instance=4), Appliance(type='light', instance=24), Appliance(type='CE appliance', instance=2)], room=utility)"
      ]
     },
     "execution_count": 8,
     "metadata": {},
     "output_type": "execute_result"
    }
   ],
   "source": [
    "house"
   ]
  },
  {
   "cell_type": "code",
   "execution_count": null,
   "metadata": {
    "collapsed": true
   },
   "outputs": [],
   "source": []
  }
 ],
 "metadata": {
  "kernelspec": {
   "display_name": "Python 2",
   "language": "python",
   "name": "python2"
  },
  "language_info": {
   "codemirror_mode": {
    "name": "ipython",
    "version": 2
   },
   "file_extension": ".py",
   "mimetype": "text/x-python",
   "name": "python",
   "nbconvert_exporter": "python",
   "pygments_lexer": "ipython2",
   "version": "2.7.9"
  }
 },
 "nbformat": 4,
 "nbformat_minor": 0
}
