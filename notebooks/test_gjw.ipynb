{
 "cells": [
  {
   "cell_type": "markdown",
   "metadata": {},
   "source": [
    "#Tests using nilm_gjw_data#\n",
    "see gjw_converter_test to generate initial datastore from .csv files\n",
    "##First import the modules needed##"
   ]
  },
  {
   "cell_type": "code",
   "execution_count": 1,
   "metadata": {
    "collapsed": false
   },
   "outputs": [],
   "source": [
    "import numpy as np\n",
    "import pandas as pd\n",
    "from os.path import join\n",
    "\n",
    "from pylab import rcParams\n",
    "import matplotlib.pyplot as plt\n",
    "%matplotlib inline\n",
    "rcParams['figure.figsize'] = (14, 6)\n",
    "\n",
    "plt.style.use('ggplot')\n",
    "import nilmtk\n",
    "from nilmtk import DataSet, TimeFrame, MeterGroup, HDFDataStore\n",
    "from nilmtk.disaggregate import CombinatorialOptimisation\n",
    "from nilmtk.utils import print_dict\n",
    "from nilmtk.metrics import f1_score\n",
    "\n",
    "import warnings\n",
    "warnings.filterwarnings(\"ignore\")"
   ]
  },
  {
   "cell_type": "markdown",
   "metadata": {},
   "source": [
    "## Load the dataset##"
   ]
  },
  {
   "cell_type": "code",
   "execution_count": 2,
   "metadata": {
    "collapsed": false
   },
   "outputs": [
    {
     "name": "stdout",
     "output_type": "stream",
     "text": [
      "loaded 1 buildings\n"
     ]
    }
   ],
   "source": [
    "gjw = DataSet(\"C:/Users/GJWood/nilm_gjw_data/HDF5/nilm_gjw_data.hdf5\")\n",
    "print('loaded ' + str(len(gjw.buildings)) + ' buildings')\n"
   ]
  },
  {
   "cell_type": "markdown",
   "metadata": {},
   "source": [
    "##Examine metadata for a single house##"
   ]
  },
  {
   "cell_type": "code",
   "execution_count": 3,
   "metadata": {
    "collapsed": false
   },
   "outputs": [
    {
     "data": {
      "text/html": [
       "<ul><li><strong>description</strong>: Family home</li><li><strong>ownership</strong>: bought</li><li><strong>description_of_occupants</strong>: 2 adults and 1 teenager.</li><li><strong>original_name</strong>: house_1</li><li><strong>heating</strong>: <ul><li>natural gas</li></ul></li><li><strong>instance</strong>: 1</li><li><strong>building_type</strong>: detached</li><li><strong>energy_improvements</strong>: <ul><li>loft insulation</li><li>solid wall insulation</li><li>double glazing</li></ul></li><li><strong>rooms</strong>: <ul><li>{'instance': 1, 'name': 'lounge', 'floor': 0}</li><li>{'instance': 1, 'name': 'hall', 'floor': 0}</li><li>{'instance': 1, 'name': 'kitchen', 'floor': 0}</li><li>{'instance': 1, 'name': 'utility', 'floor': 0}</li><li>{'instance': 1, 'name': 'dining room', 'floor': 0}</li><li>{'instance': 1, 'name': 'family room', 'floor': 0}</li><li>{'instance': 1, 'name': 'wc', 'floor': 0}</li><li>{'instance': 1, 'name': 'garage', 'floor': 0}</li><li>{'instance': 1, 'name': 'shed', 'floor': 0}</li><li>{'instance': 1, 'name': 'greenhouse', 'floor': 0}</li><li>{'instance': 1, 'floor': 1, 'description': 'master bedroom', 'name': 'bedroom'}</li><li>{'instance': 2, 'floor': 1, 'description': 'guest bedroom', 'name': 'bedroom'}</li><li>{'instance': 3, 'floor': 1, 'description': 'teenagers bedroom', 'name': 'bedroom'}</li><li>{'instance': 4, 'floor': 1, 'description': 'spare bedroom', 'name': 'bedroom'}</li><li>{'instance': 1, 'name': 'study', 'floor': 1}</li><li>{'instance': 1, 'floor': 1, 'description': 'ensuite', 'name': 'bathroom'}</li><li>{'instance': 2, 'floor': 1, 'description': 'family bathroom', 'name': 'bathroom'}</li><li>{'instance': 1, 'name': 'landing', 'floor': 1}</li></ul></li><li><strong>timeframe</strong>: <ul><li><strong>start</strong>: 2013-11-12 09:28:27+00:00</li><li><strong>end</strong>: 2015-05-27 14:41:08+01:00</li></ul></li><li><strong>construction_year</strong>: 1970</li><li><strong>dataset</strong>: gjwdata</li><li><strong>n_occupants</strong>: 3</li></ul>"
      ],
      "text/plain": [
       "<IPython.core.display.HTML object>"
      ]
     },
     "metadata": {},
     "output_type": "display_data"
    }
   ],
   "source": [
    "building_number =1\n",
    "print_dict(gjw.buildings[building_number].metadata)"
   ]
  },
  {
   "cell_type": "markdown",
   "metadata": {},
   "source": [
    "## List Appliances##"
   ]
  },
  {
   "cell_type": "code",
   "execution_count": 5,
   "metadata": {
    "collapsed": false
   },
   "outputs": [
    {
     "data": {
      "text/plain": [
       "[Appliance(type='tumble dryer', instance=1),\n",
       " Appliance(type='wireless phone charger', instance=1),\n",
       " Appliance(type='light', instance=15),\n",
       " Appliance(type='CE appliance', instance=1),\n",
       " Appliance(type='fan', instance=1),\n",
       " Appliance(type='light', instance=11),\n",
       " Appliance(type='television', instance=2),\n",
       " Appliance(type='electric oven', instance=1),\n",
       " Appliance(type='light', instance=7),\n",
       " Appliance(type='food steamer', instance=1),\n",
       " Appliance(type='server computer', instance=1),\n",
       " Appliance(type='light', instance=14),\n",
       " Appliance(type='blu-ray player', instance=1),\n",
       " Appliance(type='plate warmer', instance=1),\n",
       " Appliance(type='vacuum cleaner', instance=2),\n",
       " Appliance(type='light', instance=3),\n",
       " Appliance(type='light', instance=10),\n",
       " Appliance(type='water pump', instance=1),\n",
       " Appliance(type='light', instance=6),\n",
       " Appliance(type='coffee maker', instance=1),\n",
       " Appliance(type='light', instance=13),\n",
       " Appliance(type='vacuum cleaner', instance=1),\n",
       " Appliance(type='fridge', instance=1),\n",
       " Appliance(type='light', instance=2),\n",
       " Appliance(type='light', instance=9),\n",
       " Appliance(type='microwave', instance=1),\n",
       " Appliance(type='toaster', instance=1),\n",
       " Appliance(type='waste disposal unit', instance=1),\n",
       " Appliance(type='light', instance=5),\n",
       " Appliance(type='light', instance=12),\n",
       " Appliance(type='audio system', instance=1),\n",
       " Appliance(type='dish washer', instance=1),\n",
       " Appliance(type='light', instance=1),\n",
       " Appliance(type='washing machine', instance=1),\n",
       " Appliance(type='boiler', instance=1),\n",
       " Appliance(type='clothes iron', instance=1),\n",
       " Appliance(type='electric space heater', instance=1),\n",
       " Appliance(type='CE appliance', instance=2),\n",
       " Appliance(type='freezer', instance=1),\n",
       " Appliance(type='television', instance=1),\n",
       " Appliance(type='kettle', instance=1),\n",
       " Appliance(type='CD player', instance=1),\n",
       " Appliance(type='water filter', instance=1),\n",
       " Appliance(type='light', instance=4),\n",
       " Appliance(type='mobile phone charger', instance=1),\n",
       " Appliance(type='motor', instance=1),\n",
       " Appliance(type='light', instance=8)]"
      ]
     },
     "execution_count": 5,
     "metadata": {},
     "output_type": "execute_result"
    }
   ],
   "source": [
    "elec = gjw.buildings[building_number].elec\n",
    "elec.appliances"
   ]
  },
  {
   "cell_type": "markdown",
   "metadata": {},
   "source": [
    "## Show the meter's relationships##"
   ]
  },
  {
   "cell_type": "code",
   "execution_count": 6,
   "metadata": {
    "collapsed": false
   },
   "outputs": [
    {
     "data": {
      "text/plain": [
       "MeterGroup(meters=\n",
       "  ElecMeter(instance=1, building=1, dataset='gjwdata', site_meter, appliances=[Appliance(type='washing machine', instance=1), Appliance(type='tumble dryer', instance=1), Appliance(type='freezer', instance=1), Appliance(type='boiler', instance=1), Appliance(type='light', instance=1), Appliance(type='light', instance=2), Appliance(type='clothes iron', instance=1), Appliance(type='food steamer', instance=1), Appliance(type='kettle', instance=1), Appliance(type='toaster', instance=1), Appliance(type='coffee maker', instance=1), Appliance(type='microwave', instance=1), Appliance(type='electric oven', instance=1), Appliance(type='fridge', instance=1), Appliance(type='dish washer', instance=1), Appliance(type='waste disposal unit', instance=1), Appliance(type='water filter', instance=1), Appliance(type='fan', instance=1), Appliance(type='light', instance=3), Appliance(type='mobile phone charger', instance=1), Appliance(type='television', instance=1), Appliance(type='server computer', instance=1), Appliance(type='wireless phone charger', instance=1), Appliance(type='light', instance=4), Appliance(type='light', instance=5), Appliance(type='light', instance=6), Appliance(type='vacuum cleaner', instance=1), Appliance(type='vacuum cleaner', instance=2), Appliance(type='television', instance=2), Appliance(type='blu-ray player', instance=1), Appliance(type='light', instance=7), Appliance(type='light', instance=8), Appliance(type='audio system', instance=1), Appliance(type='CD player', instance=1), Appliance(type='light', instance=9), Appliance(type='light', instance=10), Appliance(type='light', instance=11), Appliance(type='plate warmer', instance=1), Appliance(type='light', instance=12), Appliance(type='motor', instance=1), Appliance(type='light', instance=13), Appliance(type='electric space heater', instance=1), Appliance(type='light', instance=14), Appliance(type='light', instance=15), Appliance(type='water pump', instance=1), Appliance(type='CE appliance', instance=1), Appliance(type='CE appliance', instance=2)])\n",
       ")"
      ]
     },
     "execution_count": 6,
     "metadata": {},
     "output_type": "execute_result"
    }
   ],
   "source": [
    "elec"
   ]
  },
  {
   "cell_type": "markdown",
   "metadata": {},
   "source": [
    "##List available data for an appliance##"
   ]
  },
  {
   "cell_type": "code",
   "execution_count": 7,
   "metadata": {
    "collapsed": false
   },
   "outputs": [
    {
     "data": {
      "text/plain": [
       "[('power', 'apparent'), ('power', 'reactive')]"
      ]
     },
     "execution_count": 7,
     "metadata": {},
     "output_type": "execute_result"
    }
   ],
   "source": [
    "fridge = elec['fridge']\n",
    "fridge.available_columns()"
   ]
  },
  {
   "cell_type": "markdown",
   "metadata": {
    "collapsed": false
   },
   "source": [
    "##List coherent blocks of meter readings##"
   ]
  },
  {
   "cell_type": "code",
   "execution_count": 8,
   "metadata": {
    "collapsed": false
   },
   "outputs": [
    {
     "data": {
      "text/plain": [
       "[TimeFrame(start='2013-10-17 18:19:07+01:00', end='2014-01-09 16:04:49+00:00', empty=False),\n",
       " TimeFrame(start='2014-01-12 13:02:22+00:00', end='2014-02-09 13:29:49+00:00', empty=False),\n",
       " TimeFrame(start='2014-03-13 21:59:56+00:00', end='2014-03-26 11:19:40+00:00', empty=False),\n",
       " TimeFrame(start='2014-04-27 00:17:57+01:00', end='2014-05-26 20:19:31+01:00', empty=False),\n",
       " TimeFrame(start='2015-04-17 12:48:40+01:00', end='2015-06-10 17:41:16+01:00', empty=False)]"
      ]
     },
     "execution_count": 8,
     "metadata": {},
     "output_type": "execute_result"
    }
   ],
   "source": [
    "mains = elec.mains()\n",
    "mains_good_sections = elec.mains().good_sections()\n",
    "elec.mains().good_sections()"
   ]
  },
  {
   "cell_type": "code",
   "execution_count": 9,
   "metadata": {
    "collapsed": false
   },
   "outputs": [
    {
     "data": {
      "text/plain": [
       "<matplotlib.axes._subplots.AxesSubplot at 0x17f9aba8>"
      ]
     },
     "execution_count": 9,
     "metadata": {},
     "output_type": "execute_result"
    },
    {
     "data": {
      "image/png": "[encoded data removed]",
      "text/plain": [
       "<matplotlib.figure.Figure at 0x17f9abe0>"
      ]
     },
     "metadata": {},
     "output_type": "display_data"
    }
   ],
   "source": [
    "mains_good_sections.plot()"
   ]
  },
  {
   "cell_type": "markdown",
   "metadata": {},
   "source": [
    "##Find out what power types are available##"
   ]
  },
  {
   "cell_type": "code",
   "execution_count": 10,
   "metadata": {
    "collapsed": false
   },
   "outputs": [
    {
     "data": {
      "text/plain": [
       "['apparent', 'reactive']"
      ]
     },
     "execution_count": 10,
     "metadata": {},
     "output_type": "execute_result"
    }
   ],
   "source": [
    "mains.available_power_ac_types()"
   ]
  },
  {
   "cell_type": "code",
   "execution_count": 11,
   "metadata": {
    "collapsed": false
   },
   "outputs": [
    {
     "data": {
      "text/plain": [
       "reactive     203.194441\n",
       "apparent    3387.119111\n",
       "dtype: float64"
      ]
     },
     "execution_count": 11,
     "metadata": {},
     "output_type": "execute_result"
    }
   ],
   "source": [
    "mains_energy = mains.total_energy(sections=mains_good_sections)\n",
    "mains_energy"
   ]
  },
  {
   "cell_type": "code",
   "execution_count": 16,
   "metadata": {
    "collapsed": false
   },
   "outputs": [
    {
     "name": "stdout",
     "output_type": "stream",
     "text": [
      "\r",
      "Calculating total_energy for ElecMeterID(instance=1, building=1, dataset='gjwdata') ...   "
     ]
    },
    {
     "data": {
      "text/plain": [
       "reactive     203.202124\n",
       "apparent    3387.235051\n",
       "dtype: float64"
      ]
     },
     "execution_count": 16,
     "metadata": {},
     "output_type": "execute_result"
    }
   ],
   "source": [
    "whole_house = nilmtk.global_meter_group.select()\n",
    "whole_house.select(building=1).total_energy()"
   ]
  },
  {
   "cell_type": "code",
   "execution_count": 17,
   "metadata": {
    "collapsed": false
   },
   "outputs": [
    {
     "data": {
      "text/plain": [
       "<matplotlib.axes._subplots.AxesSubplot at 0x17ff0438>"
      ]
     },
     "execution_count": 17,
     "metadata": {},
     "output_type": "execute_result"
    },
    {
     "data": {
      "image/png": "[encoded data removed]",
      "text/plain": [
       "<matplotlib.figure.Figure at 0x17f9a780>"
      ]
     },
     "metadata": {},
     "output_type": "display_data"
    }
   ],
   "source": [
    "whole_house.plot()\n"
   ]
  },
  {
   "cell_type": "code",
   "execution_count": 26,
   "metadata": {
    "collapsed": false
   },
   "outputs": [
    {
     "data": {
      "image/png": "[encoded data removed]",
      "text/plain": [
       "<matplotlib.figure.Figure at 0x397379b0>"
      ]
     },
     "metadata": {},
     "output_type": "display_data"
    }
   ],
   "source": [
    "gjw.set_window(start='2013-11-13 00:00:00', end='2013-11-14 00:00:00')\n",
    "elec.plot();\n",
    "plt.xlabel(\"Time\");"
   ]
  },
  {
   "cell_type": "code",
   "execution_count": 13,
   "metadata": {
    "collapsed": false
   },
   "outputs": [],
   "source": [
    "mains = elec.mains()"
   ]
  },
  {
   "cell_type": "code",
   "execution_count": 15,
   "metadata": {
    "collapsed": false
   },
   "outputs": [
    {
     "ename": "AttributeError",
     "evalue": "'ElecMeter' object has no attribute 'meters'",
     "output_type": "error",
     "traceback": [
      "\u001b[1;31m---------------------------------------------------------------------------\u001b[0m",
      "\u001b[1;31mAttributeError\u001b[0m                            Traceback (most recent call last)",
      "\u001b[1;32m<ipython-input-15-aa104cbab7ea>\u001b[0m in \u001b[0;36m<module>\u001b[1;34m()\u001b[0m\n\u001b[1;32m----> 1\u001b[1;33m \u001b[0mm\u001b[0m \u001b[1;33m=\u001b[0m \u001b[1;33m[\u001b[0m\u001b[0mmains\u001b[0m\u001b[1;33m.\u001b[0m\u001b[0mmeters\u001b[0m\u001b[1;33m[\u001b[0m\u001b[1;36m1\u001b[0m\u001b[1;33m]\u001b[0m\u001b[1;33m]\u001b[0m\u001b[1;33m\u001b[0m\u001b[0m\n\u001b[0m",
      "\u001b[1;31mAttributeError\u001b[0m: 'ElecMeter' object has no attribute 'meters'"
     ]
    }
   ],
   "source": [
    "m = [mains.meters[1]]\n"
   ]
  },
  {
   "cell_type": "code",
   "execution_count": 22,
   "metadata": {
    "collapsed": false
   },
   "outputs": [
    {
     "data": {
      "text/plain": [
       "2013-05-24 05:30:00+05:30    282.744995\n",
       "2013-05-24 05:30:01+05:30    288.757996\n",
       "2013-05-24 05:30:02+05:30    288.757996\n",
       "2013-05-24 05:30:03+05:30    297.394012\n",
       "2013-05-24 05:30:04+05:30    303.722992\n",
       "2013-05-24 05:30:05+05:30    297.273987\n",
       "2013-05-24 05:30:06+05:30    297.330994\n",
       "2013-05-24 05:30:07+05:30    297.330994\n",
       "2013-05-24 05:30:08+05:30    282.475006\n",
       "2013-05-24 05:30:09+05:30    282.580994\n",
       "2013-05-24 05:30:10+05:30    282.899994\n",
       "2013-05-24 05:30:11+05:30    282.915985\n",
       "2013-05-24 05:30:12+05:30    283.238007\n",
       "2013-05-24 05:30:13+05:30    283.238007\n",
       "2013-05-24 05:30:14+05:30    283.174011\n",
       "...\n",
       "2013-08-05 21:02:46+05:30    696.109985\n",
       "2013-08-05 21:02:49+05:30    696.047974\n",
       "2013-08-05 21:02:50+05:30    695.791992\n",
       "2013-08-05 21:02:53+05:30    695.333008\n",
       "2013-08-05 21:02:54+05:30    695.291992\n",
       "2013-08-05 21:02:57+05:30    695.656982\n",
       "2013-08-05 21:02:58+05:30    695.742004\n",
       "2013-08-05 21:03:01+05:30    696.257019\n",
       "2013-08-05 21:03:04+05:30    696.877991\n",
       "2013-08-05 21:03:07+05:30    696.685974\n",
       "2013-08-05 21:03:09+05:30    696.762024\n",
       "2013-08-05 21:03:10+05:30    696.864990\n",
       "2013-08-05 21:03:11+05:30    696.864990\n",
       "2013-08-05 21:03:12+05:30    697.007996\n",
       "2013-08-05 21:03:15+05:30    697.237976\n",
       "Name: (power, active), Length: 4391004"
      ]
     },
     "execution_count": 22,
     "metadata": {},
     "output_type": "execute_result"
    }
   ],
   "source": [
    "m.power_series_all_data()"
   ]
  },
  {
   "cell_type": "code",
   "execution_count": 23,
   "metadata": {
    "collapsed": false
   },
   "outputs": [
    {
     "data": {
      "text/plain": [
       "active      1005.572193\n",
       "reactive      96.815441\n",
       "apparent    1043.941205\n",
       "dtype: float64"
      ]
     },
     "execution_count": 23,
     "metadata": {},
     "output_type": "execute_result"
    }
   ],
   "source": [
    "m.total_energy()"
   ]
  },
  {
   "cell_type": "code",
   "execution_count": 10,
   "metadata": {
    "collapsed": false
   },
   "outputs": [
    {
     "name": "stderr",
     "output_type": "stream",
     "text": [
      "/home/nipun/git/nilmtk/nilmtk/preprocessing/clip.py:50: RuntimeWarning: No measurement limits for ('frequency', '').\n",
      "  warn('No measurement limits for {}.'.format(measurement), RuntimeWarning)\n",
      "/home/nipun/git/nilmtk/nilmtk/preprocessing/clip.py:50: RuntimeWarning: No measurement limits for ('voltage', '').\n",
      "  warn('No measurement limits for {}.'.format(measurement), RuntimeWarning)\n",
      "/home/nipun/git/nilmtk/nilmtk/preprocessing/clip.py:50: RuntimeWarning: No measurement limits for ('pf', '').\n",
      "  warn('No measurement limits for {}.'.format(measurement), RuntimeWarning)\n",
      "/home/nipun/git/nilmtk/nilmtk/preprocessing/clip.py:50: RuntimeWarning: No measurement limits for ('current', '').\n",
      "  warn('No measurement limits for {}.'.format(measurement), RuntimeWarning)\n"
     ]
    }
   ],
   "source": [
    "import time\n",
    "start  =  time.time()\n",
    "elec.fraction_per_meter()\n",
    "end  =  time.time()"
   ]
  },
  {
   "cell_type": "code",
   "execution_count": 14,
   "metadata": {
    "collapsed": false
   },
   "outputs": [
    {
     "name": "stdout",
     "output_type": "stream",
     "text": [
      "12/12 ElecMeter(instance=12, building=1, dataset='iAWE', appliances=[Appliance(type='motor', instance=1)])1                     NaN\n",
      "2                     NaN\n",
      "3                     NaN\n",
      "4                     NaN\n",
      "5                     NaN\n",
      "6                     NaN\n",
      "7                     NaN\n",
      "8                     NaN\n",
      "9                     NaN\n",
      "10                    NaN\n",
      "11                    NaN\n",
      "12                    NaN\n",
      "(1, 1, iAWE)     0.192552\n",
      "(2, 1, iAWE)     0.519530\n",
      "(3, 1, iAWE)     0.049750\n",
      "(4, 1, iAWE)     0.103877\n",
      "(5, 1, iAWE)     0.103186\n",
      "(6, 1, iAWE)     0.001082\n",
      "(7, 1, iAWE)     0.021384\n",
      "(8, 1, iAWE)     0.000453\n",
      "(9, 1, iAWE)     0.000403\n",
      "(10, 1, iAWE)    0.006101\n",
      "(11, 1, iAWE)    0.001146\n",
      "(12, 1, iAWE)    0.000536\n",
      "dtype: float64\n"
     ]
    }
   ],
   "source": [
    "print elec.fraction_per_meter()"
   ]
  },
  {
   "cell_type": "code",
   "execution_count": 12,
   "metadata": {
    "collapsed": false
   },
   "outputs": [
    {
     "name": "stdout",
     "output_type": "stream",
     "text": [
      "7.8085038662\n"
     ]
    }
   ],
   "source": [
    "print end - start"
   ]
  },
  {
   "cell_type": "code",
   "execution_count": 13,
   "metadata": {
    "collapsed": false
   },
   "outputs": [
    {
     "data": {
      "text/html": [
       "<div style=\"max-height:1000px;max-width:1500px;overflow:auto;\">\n",
       "<table border=\"1\" class=\"dataframe\">\n",
       "  <thead>\n",
       "    <tr style=\"text-align: right;\">\n",
       "      <th></th>\n",
       "      <th>1</th>\n",
       "      <th>2</th>\n",
       "      <th>3</th>\n",
       "      <th>4</th>\n",
       "      <th>5</th>\n",
       "      <th>6</th>\n",
       "      <th>7</th>\n",
       "      <th>8</th>\n",
       "      <th>9</th>\n",
       "      <th>10</th>\n",
       "      <th>11</th>\n",
       "      <th>12</th>\n",
       "    </tr>\n",
       "  </thead>\n",
       "  <tbody>\n",
       "    <tr>\n",
       "      <th>active</th>\n",
       "      <td> 360.496060</td>\n",
       "      <td> 1005.572193</td>\n",
       "      <td> 82.958314</td>\n",
       "      <td> 203.569523</td>\n",
       "      <td> 203.889213</td>\n",
       "      <td> 2.152638</td>\n",
       "      <td> 24.351495</td>\n",
       "      <td> 0.885766</td>\n",
       "      <td> 0.722616</td>\n",
       "      <td> 11.495919</td>\n",
       "      <td> 0.558716</td>\n",
       "      <td> 1.077918</td>\n",
       "    </tr>\n",
       "    <tr>\n",
       "      <th>apparent</th>\n",
       "      <td> 386.911386</td>\n",
       "      <td> 1043.941205</td>\n",
       "      <td> 99.966983</td>\n",
       "      <td> 208.730314</td>\n",
       "      <td> 207.341398</td>\n",
       "      <td> 2.173996</td>\n",
       "      <td> 42.969043</td>\n",
       "      <td> 0.911080</td>\n",
       "      <td> 0.810098</td>\n",
       "      <td> 12.258396</td>\n",
       "      <td> 2.302620</td>\n",
       "      <td>      NaN</td>\n",
       "    </tr>\n",
       "    <tr>\n",
       "      <th>reactive</th>\n",
       "      <td>  30.660539</td>\n",
       "      <td>   96.815441</td>\n",
       "      <td> 53.965398</td>\n",
       "      <td>  42.482991</td>\n",
       "      <td>  35.209142</td>\n",
       "      <td> 0.018759</td>\n",
       "      <td>  0.002313</td>\n",
       "      <td> 0.000528</td>\n",
       "      <td> 0.249570</td>\n",
       "      <td>  0.000176</td>\n",
       "      <td> 2.087380</td>\n",
       "      <td>      NaN</td>\n",
       "    </tr>\n",
       "  </tbody>\n",
       "</table>\n",
       "</div>"
      ],
      "text/plain": [
       "                  1            2          3           4           5   \\\n",
       "active    360.496060  1005.572193  82.958314  203.569523  203.889213   \n",
       "apparent  386.911386  1043.941205  99.966983  208.730314  207.341398   \n",
       "reactive   30.660539    96.815441  53.965398   42.482991   35.209142   \n",
       "\n",
       "                6          7         8         9          10        11  \\\n",
       "active    2.152638  24.351495  0.885766  0.722616  11.495919  0.558716   \n",
       "apparent  2.173996  42.969043  0.911080  0.810098  12.258396  2.302620   \n",
       "reactive  0.018759   0.002313  0.000528  0.249570   0.000176  2.087380   \n",
       "\n",
       "                12  \n",
       "active    1.077918  \n",
       "apparent       NaN  \n",
       "reactive       NaN  "
      ]
     },
     "execution_count": 13,
     "metadata": {},
     "output_type": "execute_result"
    }
   ],
   "source": [
    "elec.select_top_k(k=4)"
   ]
  },
  {
   "cell_type": "code",
   "execution_count": 14,
   "metadata": {
    "collapsed": false
   },
   "outputs": [
    {
     "data": {
      "text/html": [
       "<div style=\"max-height:1000px;max-width:1500px;overflow:auto;\">\n",
       "<table border=\"1\" class=\"dataframe\">\n",
       "  <thead>\n",
       "    <tr style=\"text-align: right;\">\n",
       "      <th></th>\n",
       "      <th>1</th>\n",
       "      <th>2</th>\n",
       "      <th>3</th>\n",
       "      <th>4</th>\n",
       "      <th>5</th>\n",
       "      <th>6</th>\n",
       "      <th>7</th>\n",
       "      <th>8</th>\n",
       "      <th>9</th>\n",
       "      <th>10</th>\n",
       "      <th>11</th>\n",
       "      <th>12</th>\n",
       "    </tr>\n",
       "  </thead>\n",
       "  <tbody>\n",
       "    <tr>\n",
       "      <th>active</th>\n",
       "      <td> 360.496060</td>\n",
       "      <td> 1005.572193</td>\n",
       "      <td> 82.958314</td>\n",
       "      <td> 203.569523</td>\n",
       "      <td> 203.889213</td>\n",
       "      <td> 2.152638</td>\n",
       "      <td> 24.351495</td>\n",
       "      <td> 0.885766</td>\n",
       "      <td> 0.722616</td>\n",
       "      <td> 11.495919</td>\n",
       "      <td> 0.558716</td>\n",
       "      <td> 1.077918</td>\n",
       "    </tr>\n",
       "    <tr>\n",
       "      <th>apparent</th>\n",
       "      <td> 386.911386</td>\n",
       "      <td> 1043.941205</td>\n",
       "      <td> 99.966983</td>\n",
       "      <td> 208.730314</td>\n",
       "      <td> 207.341398</td>\n",
       "      <td> 2.173996</td>\n",
       "      <td> 42.969043</td>\n",
       "      <td> 0.911080</td>\n",
       "      <td> 0.810098</td>\n",
       "      <td> 12.258396</td>\n",
       "      <td> 2.302620</td>\n",
       "      <td>      NaN</td>\n",
       "    </tr>\n",
       "    <tr>\n",
       "      <th>reactive</th>\n",
       "      <td>  30.660539</td>\n",
       "      <td>   96.815441</td>\n",
       "      <td> 53.965398</td>\n",
       "      <td>  42.482991</td>\n",
       "      <td>  35.209142</td>\n",
       "      <td> 0.018759</td>\n",
       "      <td>  0.002313</td>\n",
       "      <td> 0.000528</td>\n",
       "      <td> 0.249570</td>\n",
       "      <td>  0.000176</td>\n",
       "      <td> 2.087380</td>\n",
       "      <td>      NaN</td>\n",
       "    </tr>\n",
       "  </tbody>\n",
       "</table>\n",
       "</div>"
      ],
      "text/plain": [
       "                  1            2          3           4           5   \\\n",
       "active    360.496060  1005.572193  82.958314  203.569523  203.889213   \n",
       "apparent  386.911386  1043.941205  99.966983  208.730314  207.341398   \n",
       "reactive   30.660539    96.815441  53.965398   42.482991   35.209142   \n",
       "\n",
       "                6          7         8         9          10        11  \\\n",
       "active    2.152638  24.351495  0.885766  0.722616  11.495919  0.558716   \n",
       "apparent  2.173996  42.969043  0.911080  0.810098  12.258396  2.302620   \n",
       "reactive  0.018759   0.002313  0.000528  0.249570   0.000176  2.087380   \n",
       "\n",
       "                12  \n",
       "active    1.077918  \n",
       "apparent       NaN  \n",
       "reactive       NaN  "
      ]
     },
     "execution_count": 14,
     "metadata": {},
     "output_type": "execute_result"
    }
   ],
   "source": [
    "elec.energy_per_meter()"
   ]
  },
  {
   "cell_type": "code",
   "execution_count": 16,
   "metadata": {
    "collapsed": false
   },
   "outputs": [],
   "source": [
    "elec.total_energy?\n"
   ]
  },
  {
   "cell_type": "code",
   "execution_count": null,
   "metadata": {
    "collapsed": false
   },
   "outputs": [],
   "source": []
  }
 ],
 "metadata": {
  "kernelspec": {
   "display_name": "Python 2",
   "language": "python",
   "name": "python2"
  },
  "language_info": {
   "codemirror_mode": {
    "name": "ipython",
    "version": 2
   },
   "file_extension": ".py",
   "mimetype": "text/x-python",
   "name": "python",
   "nbconvert_exporter": "python",
   "pygments_lexer": "ipython2",
   "version": "2.7.9"
  }
 },
 "nbformat": 4,
 "nbformat_minor": 0
}
